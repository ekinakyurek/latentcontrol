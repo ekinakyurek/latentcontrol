{
 "cells": [
  {
   "cell_type": "code",
   "execution_count": null,
   "metadata": {},
   "outputs": [],
   "source": [
    "import pandas as pd\n",
    "import matplotlib.pyplot as plt\n",
    "import seaborn as sns\n",
    "import glob\n",
    "from accuracy import accuracy_stats_of_a_set\n",
    "%matplotlib inline\n",
    "sns.set()\n",
    "plt.style.use('../.mplstyle')\n",
    "plt.rcParams['figure.dpi'] = 150\n",
    "plt.rcParams['savefig.dpi'] = 150\n",
    "plt.rcParams['figure.figsize'] = 12,8\n",
    "pd.set_option('display.max_rows', 25)\n",
    "pd.set_option('display.max_colwidth', 0)"
   ]
  },
  {
   "cell_type": "code",
   "execution_count": null,
   "metadata": {},
   "outputs": [],
   "source": [
    "fnames = glob.glob(f\"../exps/arithmetic_bugfix/**/*.tsv\", recursive=True)"
   ]
  },
  {
   "cell_type": "code",
   "execution_count": null,
   "metadata": {},
   "outputs": [],
   "source": [
    "def plot_a_set(fnames, title=\"validation set\", ax=None):\n",
    "    dfs = []\n",
    "    for fname in fnames:\n",
    "        print(fname)\n",
    "        accuracy = accuracy_stats_of_a_set(fname)\n",
    "        df = pd.DataFrame(accuracy).transpose().sort_index()\n",
    "        paths = fname.split('/')\n",
    "        name = paths[4] + \"/\" + paths[7]\n",
    "        df['model'] = name\n",
    "        dfs.append(df)\n",
    "    df = pd.concat(dfs, axis=0)\n",
    "    sns.barplot(ax=ax, data=df, y='exact_match', x=df.index, hue='model').set(title=title)\n",
    "    for value in ax.containers:\n",
    "        ax.bar_label(value,)"
   ]
  },
  {
   "cell_type": "code",
   "execution_count": null,
   "metadata": {},
   "outputs": [],
   "source": [
    "fnames"
   ]
  },
  {
   "cell_type": "code",
   "execution_count": null,
   "metadata": {},
   "outputs": [],
   "source": [
    "\n",
    "fig, axes = plt.subplots(1, 2, sharey=True, figsize=(16,8))\n",
    "fig.suptitle('Arithmethic Results')\n",
    "plot_a_set([fnames[0], fnames[1], fnames[3]], ax=axes[0], title=\"Dev set\")\n",
    "plot_a_set([fnames[2], fnames[2]], title='Test set', ax=axes[1])"
   ]
  },
  {
   "cell_type": "markdown",
   "metadata": {},
   "source": []
  },
  {
   "cell_type": "code",
   "execution_count": null,
   "metadata": {},
   "outputs": [],
   "source": [
    "fig"
   ]
  },
  {
   "cell_type": "code",
   "execution_count": null,
   "metadata": {},
   "outputs": [],
   "source": []
  },
  {
   "cell_type": "code",
   "execution_count": null,
   "metadata": {},
   "outputs": [],
   "source": []
  }
 ],
 "metadata": {
  "interpreter": {
   "hash": "d4d1e4263499bec80672ea0156c357c1ee493ec2b1c70f0acce89fc37c4a6abe"
  },
  "kernelspec": {
   "display_name": "Python 3.9.7 ('base')",
   "language": "python",
   "name": "python3"
  },
  "language_info": {
   "codemirror_mode": {
    "name": "ipython",
    "version": 3
   },
   "file_extension": ".py",
   "mimetype": "text/x-python",
   "name": "python",
   "nbconvert_exporter": "python",
   "pygments_lexer": "ipython3",
   "version": "3.9.7"
  },
  "orig_nbformat": 4
 },
 "nbformat": 4,
 "nbformat_minor": 2
}
